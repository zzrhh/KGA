{
 "cells": [
  {
   "cell_type": "code",
   "execution_count": null,
   "id": "caf6dcbd",
   "metadata": {},
   "outputs": [],
   "source": [
    "from utils.utils import split_data, train_model, evaluate_model\n",
    "import pandas as pd\n",
    "pos_file = \"posi.csv\"\n",
    "neg_file = \"nega.csv\"\n",
    "model_path = \"models/shadow_auditor\"\n",
    "\n",
    "positive_df = pd.read_csv(pos_file)\n",
    "negative_df = pd.read_csv(neg_file)\n",
    "\n",
    "\n",
    "train_df, test_df = split_data(positive_df, negative_df)\n",
    "\n",
    "\n",
    "predictor = train_model(train_df, model_path,feature_col=\"feature\")\n",
    "\n",
    "\n",
    "evaluate_model(predictor, test_df,feature_col=\"feature\")\n"
   ]
  }
 ],
 "metadata": {
  "kernelspec": {
   "display_name": "Python 3",
   "language": "python",
   "name": "python3"
  },
  "language_info": {
   "codemirror_mode": {
    "name": "ipython",
    "version": 3
   },
   "file_extension": ".py",
   "mimetype": "text/x-python",
   "name": "python",
   "nbconvert_exporter": "python",
   "pygments_lexer": "ipython3",
   "version": "3.10.12"
  }
 },
 "nbformat": 4,
 "nbformat_minor": 5
}
